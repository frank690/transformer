{
 "cells": [
  {
   "cell_type": "code",
   "execution_count": 73,
   "id": "8b9c9c50-e58e-428d-80c6-a964be17ea74",
   "metadata": {},
   "outputs": [],
   "source": [
    "import numpy as np\n",
    "import torch\n",
    "\n",
    "import torch.nn.functional as F\n",
    "import torch.nn as nn"
   ]
  },
  {
   "cell_type": "code",
   "execution_count": 2,
   "id": "5f7b5151-0b9f-424e-9d2e-fd122acbbf64",
   "metadata": {},
   "outputs": [
    {
     "data": {
      "text/plain": [
       "<torch._C.Generator at 0x2448efc0cf0>"
      ]
     },
     "execution_count": 2,
     "metadata": {},
     "output_type": "execute_result"
    }
   ],
   "source": [
    "torch.manual_seed(1337)"
   ]
  },
  {
   "cell_type": "markdown",
   "id": "016f4012-be8a-4f0c-9be4-2d57be2e1674",
   "metadata": {},
   "source": [
    "#### self attention mechanism"
   ]
  },
  {
   "cell_type": "code",
   "execution_count": 44,
   "id": "d819d758-606e-4e9b-a0ae-96394044a276",
   "metadata": {},
   "outputs": [
    {
     "data": {
      "text/plain": [
       "torch.Size([4, 8, 32])"
      ]
     },
     "execution_count": 44,
     "metadata": {},
     "output_type": "execute_result"
    }
   ],
   "source": [
    "B, T, C = 4, 8, 32  # batch, tokens, channels\n",
    "x = torch.randn(B,T,C)\n",
    "x.shape"
   ]
  },
  {
   "cell_type": "markdown",
   "id": "d1483774-3505-40ee-8c66-8530aa42b653",
   "metadata": {},
   "source": [
    "#### slow for-loops"
   ]
  },
  {
   "cell_type": "code",
   "execution_count": 54,
   "id": "fd8f1e75-6e57-43a6-b35f-9323fef78cdc",
   "metadata": {},
   "outputs": [],
   "source": [
    "xbow = torch.zeros((B, T, C))\n",
    "\n",
    "for b in range(B):\n",
    "    for t in range(T):\n",
    "        xprev = x[b,:t+1]  # (t, C)\n",
    "        xbow[b, t] = torch.mean(xprev, 0)"
   ]
  },
  {
   "cell_type": "markdown",
   "id": "1b2d46b8-8e8d-40de-8fd9-53ea4a8fe3e1",
   "metadata": {},
   "source": [
    "#### fast vector multiplication"
   ]
  },
  {
   "cell_type": "code",
   "execution_count": 55,
   "id": "7fbc1fc5-786b-46db-88a6-30a5f0f79d9a",
   "metadata": {},
   "outputs": [],
   "source": [
    "W = torch.tril(torch.ones(T, T)) # TxT\n",
    "W /= torch.sum(W, 1, keepdims=True)"
   ]
  },
  {
   "cell_type": "code",
   "execution_count": 56,
   "id": "b54ce848-0d8d-47e4-a18c-3fc676aaea55",
   "metadata": {},
   "outputs": [],
   "source": [
    "xbow2 = W @ x"
   ]
  },
  {
   "cell_type": "markdown",
   "id": "f2c23a77-2dda-4562-a3c2-592f8105b1ab",
   "metadata": {},
   "source": [
    "#### now with softmax"
   ]
  },
  {
   "cell_type": "code",
   "execution_count": 70,
   "id": "fe25cd7f-2ab5-4ba0-b844-4e4e4e105b4d",
   "metadata": {},
   "outputs": [],
   "source": [
    "tril = torch.tril(torch.ones(T, T))\n",
    "W = torch.zeros((T, T))  # defines affinity between nodes\n",
    "W = W.masked_fill(tril == 0, float('-inf'))  # prevent looking into future\n",
    "W = F.softmax(W, dim=-1)"
   ]
  },
  {
   "cell_type": "code",
   "execution_count": 74,
   "id": "f0a6cbb7-4d10-4e88-802a-93952727b50f",
   "metadata": {},
   "outputs": [],
   "source": [
    "xbow3 = W @ x"
   ]
  },
  {
   "cell_type": "markdown",
   "id": "59856c7e-eb51-4fa7-96a0-4bb325fd40d2",
   "metadata": {},
   "source": [
    "#### single head implementation"
   ]
  },
  {
   "cell_type": "code",
   "execution_count": 75,
   "id": "03a92955-8c23-4d4f-b00a-580d3700df65",
   "metadata": {},
   "outputs": [],
   "source": [
    "head_size = 16\n",
    "key = nn.Linear(C, head_size, bias=False)    # what do i contain?\n",
    "query = nn.Linear(C, head_size, bias=False)  # what am i looking for?\n",
    "value = nn.Linear(C, head_size, bias=False)  # what do i pass to you?"
   ]
  },
  {
   "cell_type": "code",
   "execution_count": 76,
   "id": "0f27ac32-d7eb-44de-9a96-e00ff78e9ca2",
   "metadata": {},
   "outputs": [],
   "source": [
    "k = key(x)  # (B, T, head_size)\n",
    "q = query(x)  # (B, T, head_size)"
   ]
  },
  {
   "cell_type": "code",
   "execution_count": 79,
   "id": "edc646a3-8ca9-4a52-87fe-5c4f8b0cad3a",
   "metadata": {},
   "outputs": [],
   "source": [
    "W = q @ k.transpose(-2, -1)  # affinity (B,T,H) @ (B,H,T) --> (B,T,T)"
   ]
  },
  {
   "cell_type": "code",
   "execution_count": 80,
   "id": "11f44226-a9f0-4d99-8ae7-b1bcbfd2eb87",
   "metadata": {},
   "outputs": [
    {
     "data": {
      "text/plain": [
       "torch.Size([4, 8, 8])"
      ]
     },
     "execution_count": 80,
     "metadata": {},
     "output_type": "execute_result"
    }
   ],
   "source": [
    "W.shape"
   ]
  },
  {
   "cell_type": "code",
   "execution_count": 82,
   "id": "977224df-27ca-4382-88aa-a569799e92ac",
   "metadata": {},
   "outputs": [],
   "source": [
    "tril = torch.tril(torch.ones(T, T))\n",
    "W = W.masked_fill(tril == 0, float('-inf'))  # prevent looking into future\n",
    "W = F.softmax(W, dim=-1)"
   ]
  },
  {
   "cell_type": "code",
   "execution_count": 83,
   "id": "6863aaca-d9e7-45ff-9cef-dd15f529733c",
   "metadata": {},
   "outputs": [],
   "source": [
    "v = value(x)\n",
    "xbow4 = W @ v"
   ]
  },
  {
   "cell_type": "code",
   "execution_count": 85,
   "id": "f962a579-c142-4a9c-bc3c-89e221032ccb",
   "metadata": {},
   "outputs": [
    {
     "data": {
      "text/plain": [
       "tensor([[1.0000e+00, 0.0000e+00, 0.0000e+00, 0.0000e+00, 0.0000e+00, 0.0000e+00,\n",
       "         0.0000e+00, 0.0000e+00],\n",
       "        [5.4949e-01, 4.5051e-01, 0.0000e+00, 0.0000e+00, 0.0000e+00, 0.0000e+00,\n",
       "         0.0000e+00, 0.0000e+00],\n",
       "        [3.0814e-02, 1.8298e-02, 9.5089e-01, 0.0000e+00, 0.0000e+00, 0.0000e+00,\n",
       "         0.0000e+00, 0.0000e+00],\n",
       "        [2.7306e-02, 5.9927e-03, 9.6422e-01, 2.4795e-03, 0.0000e+00, 0.0000e+00,\n",
       "         0.0000e+00, 0.0000e+00],\n",
       "        [1.0356e-01, 8.4526e-02, 2.9864e-01, 4.2126e-01, 9.2020e-02, 0.0000e+00,\n",
       "         0.0000e+00, 0.0000e+00],\n",
       "        [5.5813e-02, 2.6597e-01, 6.9153e-02, 8.4581e-02, 2.7192e-01, 2.5256e-01,\n",
       "         0.0000e+00, 0.0000e+00],\n",
       "        [1.1987e-02, 3.8042e-04, 9.6417e-01, 3.2126e-03, 5.0234e-03, 1.4995e-02,\n",
       "         2.3348e-04, 0.0000e+00],\n",
       "        [3.9488e-02, 2.8300e-01, 1.5332e-02, 7.4047e-02, 5.5218e-02, 4.9383e-01,\n",
       "         1.6254e-02, 2.2827e-02]], grad_fn=<SelectBackward0>)"
      ]
     },
     "execution_count": 85,
     "metadata": {},
     "output_type": "execute_result"
    }
   ],
   "source": [
    "W[0]"
   ]
  },
  {
   "cell_type": "code",
   "execution_count": null,
   "id": "8ed8befd-8f9b-43e9-b365-f0f46b8bd3ad",
   "metadata": {},
   "outputs": [],
   "source": []
  }
 ],
 "metadata": {
  "kernelspec": {
   "display_name": "transformer",
   "language": "python",
   "name": "transformer"
  },
  "language_info": {
   "codemirror_mode": {
    "name": "ipython",
    "version": 3
   },
   "file_extension": ".py",
   "mimetype": "text/x-python",
   "name": "python",
   "nbconvert_exporter": "python",
   "pygments_lexer": "ipython3",
   "version": "3.9.4"
  }
 },
 "nbformat": 4,
 "nbformat_minor": 5
}
